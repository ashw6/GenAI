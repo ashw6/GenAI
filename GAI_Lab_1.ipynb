{
  "nbformat": 4,
  "nbformat_minor": 0,
  "metadata": {
    "colab": {
      "provenance": [],
      "authorship_tag": "ABX9TyMJzvLTEE/dMpWf+WHgPJG6",
      "include_colab_link": true
    },
    "kernelspec": {
      "name": "python3",
      "display_name": "Python 3"
    },
    "language_info": {
      "name": "python"
    }
  },
  "cells": [
    {
      "cell_type": "markdown",
      "metadata": {
        "id": "view-in-github",
        "colab_type": "text"
      },
      "source": [
        "<a href=\"https://colab.research.google.com/github/ashw6/GenAI/blob/main/GAI_Lab_1.ipynb\" target=\"_parent\"><img src=\"https://colab.research.google.com/assets/colab-badge.svg\" alt=\"Open In Colab\"/></a>"
      ]
    },
    {
      "cell_type": "markdown",
      "source": [],
      "metadata": {
        "id": "rIDBg0nPHlSf"
      }
    },
    {
      "cell_type": "code",
      "execution_count": 1,
      "metadata": {
        "colab": {
          "base_uri": "https://localhost:8080/"
        },
        "id": "px_Xie84Gftk",
        "outputId": "c2c00814-2c5a-4079-d3a5-3019ad7e429a"
      },
      "outputs": [
        {
          "output_type": "stream",
          "name": "stdout",
          "text": [
            "From scratch calculations:\n",
            "MAE: 0.46\n",
            "MSE: 0.25\n",
            "RMSE: 0.50\n"
          ]
        }
      ],
      "source": [
        "# From scratch implementation\n",
        "import math\n",
        "\n",
        "# Actual and predicted values\n",
        "y_actual = [20, 30, 40, 50, 60]\n",
        "y_pred = [20.5, 30.3, 40.2, 50.6, 60.7]\n",
        "\n",
        "# Calculate errors\n",
        "n = len(y_actual)\n",
        "mae = sum(abs(y_actual[i] - y_pred[i]) for i in range(n)) / n\n",
        "mse = sum((y_actual[i] - y_pred[i])**2 for i in range(n)) / n\n",
        "rmse = math.sqrt(mse)\n",
        "\n",
        "# Print results\n",
        "print(\"From scratch calculations:\")\n",
        "print(f\"MAE: {mae:.2f}\")\n",
        "print(f\"MSE: {mse:.2f}\")\n",
        "print(f\"RMSE: {rmse:.2f}\")\n",
        "\n",
        "# Library implementation for comparison\n",
        "from sklearn.metrics import mean_absolute_error, mean_squared_error\n",
        "\n",
        "mae_lib = mean_absolute_error(y_actual, y_pred)\n",
        "mse_lib = mean_squared_error(y_actual, y_pred)\n",
        "rmse_lib = math.sqrt(mse_lib)\n",
        "\n",
        "print(\"\\nUsing libraries:\")\n",
        "print(f\"MAE: {mae_lib:.2f}\")\n",
        "print(f\"MSE: {mse_lib:.2f}\")\n",
        "print(f\"RMSE: {rmse_lib:.2f}\")\n"
      ]
    },
    {
      "cell_type": "code",
      "source": [
        "# From scratch implementation\n",
        "import numpy as np\n",
        "\n",
        "# Actual and predicted values\n",
        "y_actual = np.array([0, 0, 1, 1, 2, 0])\n",
        "y_pred = np.array([0, 0, 1, 0, 2, 0])\n",
        "\n",
        "# Confusion matrix calculation\n",
        "num_classes = len(np.unique(y_actual))\n",
        "conf_matrix = np.zeros((num_classes, num_classes), dtype=int)\n",
        "\n",
        "for a, p in zip(y_actual, y_pred):\n",
        "    conf_matrix[a, p] += 1\n",
        "\n",
        "# Metrics calculations\n",
        "accuracy = np.trace(conf_matrix) / np.sum(conf_matrix)\n",
        "precision = np.diag(conf_matrix) / np.sum(conf_matrix, axis=0)\n",
        "recall = np.diag(conf_matrix) / np.sum(conf_matrix, axis=1)\n",
        "f1_score = 2 * (precision * recall) / (precision + recall)\n",
        "\n",
        "# Print results\n",
        "print(\"\\nFrom scratch calculations:\")\n",
        "print(f\"Accuracy: {accuracy:.2f}\")\n",
        "print(f\"Precision: {np.nanmean(precision):.2f}\")\n",
        "print(f\"Recall: {np.nanmean(recall):.2f}\")\n",
        "print(f\"F1-Score: {np.nanmean(f1_score):.2f}\")\n",
        "\n",
        "# Library implementation for comparison\n",
        "from sklearn.metrics import accuracy_score, precision_score, recall_score, f1_score\n",
        "\n",
        "accuracy_lib = accuracy_score(y_actual, y_pred)\n",
        "precision_lib = precision_score(y_actual, y_pred, average='weighted', zero_division=0)\n",
        "recall_lib = recall_score(y_actual, y_pred, average='weighted', zero_division=0)\n",
        "f1_score_lib = f1_score(y_actual, y_pred, average='weighted', zero_division=0)\n",
        "\n",
        "print(\"\\nUsing libraries:\")\n",
        "print(f\"Accuracy: {accuracy_lib:.2f}\")\n",
        "print(f\"Precision: {precision_lib:.2f}\")\n",
        "print(f\"Recall: {recall_lib:.2f}\")\n",
        "print(f\"F1-Score: {f1_score_lib:.2f}\")\n"
      ],
      "metadata": {
        "colab": {
          "base_uri": "https://localhost:8080/"
        },
        "id": "jmy30yYiGk09",
        "outputId": "24c35715-7b22-4a27-94c0-9db04645d1ad"
      },
      "execution_count": 2,
      "outputs": [
        {
          "output_type": "stream",
          "name": "stdout",
          "text": [
            "\n",
            "From scratch calculations:\n",
            "Accuracy: 0.83\n",
            "Precision: 0.92\n",
            "Recall: 0.83\n",
            "F1-Score: 0.84\n",
            "\n",
            "Using libraries:\n",
            "Accuracy: 0.83\n",
            "Precision: 0.88\n",
            "Recall: 0.83\n",
            "F1-Score: 0.82\n"
          ]
        }
      ]
    },
    {
      "cell_type": "markdown",
      "source": [],
      "metadata": {
        "id": "F8nqw5LFHjPA"
      }
    }
  ]
}