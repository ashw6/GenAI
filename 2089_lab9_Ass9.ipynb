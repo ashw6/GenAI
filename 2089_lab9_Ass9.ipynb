{
  "nbformat": 4,
  "nbformat_minor": 0,
  "metadata": {
    "colab": {
      "provenance": [],
      "authorship_tag": "ABX9TyM0E23K+eDwa88eYcwjpkzi",
      "include_colab_link": true
    },
    "kernelspec": {
      "name": "python3",
      "display_name": "Python 3"
    },
    "language_info": {
      "name": "python"
    }
  },
  "cells": [
    {
      "cell_type": "markdown",
      "metadata": {
        "id": "view-in-github",
        "colab_type": "text"
      },
      "source": [
        "<a href=\"https://colab.research.google.com/github/ashw6/GenAI/blob/main/2089_lab9_Ass9.ipynb\" target=\"_parent\"><img src=\"https://colab.research.google.com/assets/colab-badge.svg\" alt=\"Open In Colab\"/></a>"
      ]
    },
    {
      "cell_type": "code",
      "execution_count": 2,
      "metadata": {
        "colab": {
          "base_uri": "https://localhost:8080/"
        },
        "id": "pWXmB81tinbr",
        "outputId": "ffad9e91-2ae7-4506-8411-d0904c5dc9fa"
      },
      "outputs": [
        {
          "output_type": "stream",
          "name": "stdout",
          "text": [
            "Epoch 1/10\n",
            "\u001b[1m469/469\u001b[0m \u001b[32m━━━━━━━━━━━━━━━━━━━━\u001b[0m\u001b[37m\u001b[0m \u001b[1m4s\u001b[0m 6ms/step - accuracy: 0.1042 - loss: 2.3124 - val_accuracy: 0.1067 - val_loss: 2.3044\n",
            "Epoch 2/10\n",
            "\u001b[1m469/469\u001b[0m \u001b[32m━━━━━━━━━━━━━━━━━━━━\u001b[0m\u001b[37m\u001b[0m \u001b[1m4s\u001b[0m 4ms/step - accuracy: 0.1071 - loss: 2.2991 - val_accuracy: 0.1127 - val_loss: 2.2893\n",
            "Epoch 3/10\n",
            "\u001b[1m469/469\u001b[0m \u001b[32m━━━━━━━━━━━━━━━━━━━━\u001b[0m\u001b[37m\u001b[0m \u001b[1m2s\u001b[0m 4ms/step - accuracy: 0.1176 - loss: 2.2844 - val_accuracy: 0.1214 - val_loss: 2.2747\n",
            "Epoch 4/10\n",
            "\u001b[1m469/469\u001b[0m \u001b[32m━━━━━━━━━━━━━━━━━━━━\u001b[0m\u001b[37m\u001b[0m \u001b[1m3s\u001b[0m 4ms/step - accuracy: 0.1231 - loss: 2.2710 - val_accuracy: 0.1326 - val_loss: 2.2606\n",
            "Epoch 5/10\n",
            "\u001b[1m469/469\u001b[0m \u001b[32m━━━━━━━━━━━━━━━━━━━━\u001b[0m\u001b[37m\u001b[0m \u001b[1m3s\u001b[0m 4ms/step - accuracy: 0.1353 - loss: 2.2571 - val_accuracy: 0.1412 - val_loss: 2.2468\n",
            "Epoch 6/10\n",
            "\u001b[1m469/469\u001b[0m \u001b[32m━━━━━━━━━━━━━━━━━━━━\u001b[0m\u001b[37m\u001b[0m \u001b[1m2s\u001b[0m 4ms/step - accuracy: 0.1491 - loss: 2.2429 - val_accuracy: 0.1519 - val_loss: 2.2330\n",
            "Epoch 7/10\n",
            "\u001b[1m469/469\u001b[0m \u001b[32m━━━━━━━━━━━━━━━━━━━━\u001b[0m\u001b[37m\u001b[0m \u001b[1m2s\u001b[0m 4ms/step - accuracy: 0.1594 - loss: 2.2294 - val_accuracy: 0.1611 - val_loss: 2.2192\n",
            "Epoch 8/10\n",
            "\u001b[1m469/469\u001b[0m \u001b[32m━━━━━━━━━━━━━━━━━━━━\u001b[0m\u001b[37m\u001b[0m \u001b[1m2s\u001b[0m 3ms/step - accuracy: 0.1693 - loss: 2.2154 - val_accuracy: 0.1715 - val_loss: 2.2053\n",
            "Epoch 9/10\n",
            "\u001b[1m469/469\u001b[0m \u001b[32m━━━━━━━━━━━━━━━━━━━━\u001b[0m\u001b[37m\u001b[0m \u001b[1m2s\u001b[0m 4ms/step - accuracy: 0.1763 - loss: 2.2017 - val_accuracy: 0.1793 - val_loss: 2.1911\n",
            "Epoch 10/10\n",
            "\u001b[1m469/469\u001b[0m \u001b[32m━━━━━━━━━━━━━━━━━━━━\u001b[0m\u001b[37m\u001b[0m \u001b[1m2s\u001b[0m 4ms/step - accuracy: 0.1808 - loss: 2.1895 - val_accuracy: 0.1870 - val_loss: 2.1769\n",
            "Initial Model - Train Accuracy: 0.1888, Test Accuracy: 0.1870\n",
            "Architecture [64, 64, 64] | Activation: relu | Test Accuracy: 0.3555\n",
            "Architecture [128, 64, 32] | Activation: relu | Test Accuracy: 0.4659\n",
            "Architecture [256, 128] | Activation: relu | Test Accuracy: 0.7252\n",
            "Architecture [64, 32, 16] | Activation: sigmoid | Test Accuracy: 0.0980\n",
            "Best Architecture: [256, 128] with relu activation, Accuracy: 0.7252\n"
          ]
        }
      ],
      "source": [
        "import tensorflow as tf\n",
        "from tensorflow import keras\n",
        "from tensorflow.keras import layers\n",
        "import numpy as np\n",
        "\n",
        "# Load MNIST dataset\n",
        "(x_train, y_train), (x_test, y_test) = keras.datasets.mnist.load_data()\n",
        "\n",
        "# Normalize pixel values\n",
        "x_train, x_test = x_train / 255.0, x_test / 255.0\n",
        "\n",
        "# Flatten input data\n",
        "x_train = x_train.reshape(-1, 28*28)\n",
        "x_test = x_test.reshape(-1, 28*28)\n",
        "\n",
        "# Define initial ANN architecture\n",
        "def build_model(neurons=[32, 32, 32], activation='relu', optimizer='adadelta'):\n",
        "    model = keras.Sequential()\n",
        "    model.add(layers.InputLayer(input_shape=(28*28,)))\n",
        "\n",
        "    for n in neurons:\n",
        "        model.add(layers.Dense(n, activation=activation))\n",
        "\n",
        "    model.add(layers.Dense(10, activation='softmax'))\n",
        "\n",
        "    model.compile(optimizer=optimizer, loss='sparse_categorical_crossentropy', metrics=['accuracy'])\n",
        "    return model\n",
        "\n",
        "# Train initial model\n",
        "initial_model = build_model()\n",
        "history = initial_model.fit(x_train, y_train, epochs=10, batch_size=128, validation_data=(x_test, y_test))\n",
        "\n",
        "# Evaluate initial model\n",
        "train_acc = history.history['accuracy'][-1]\n",
        "test_acc = history.history['val_accuracy'][-1]\n",
        "print(f\"Initial Model - Train Accuracy: {train_acc:.4f}, Test Accuracy: {test_acc:.4f}\")\n",
        "\n",
        "# Tuning the architecture\n",
        "def tune_model():\n",
        "    architectures = [\n",
        "        ([64, 64, 64], 'relu'),\n",
        "        ([128, 64, 32], 'relu'),\n",
        "        ([256, 128], 'relu'),\n",
        "        ([64, 32, 16], 'sigmoid')\n",
        "    ]\n",
        "    best_acc = 0\n",
        "    best_arch = None\n",
        "\n",
        "    for neurons, activation in architectures:\n",
        "        model = build_model(neurons=neurons, activation=activation)\n",
        "        history = model.fit(x_train, y_train, epochs=10, batch_size=128, validation_data=(x_test, y_test), verbose=0)\n",
        "        test_acc = history.history['val_accuracy'][-1]\n",
        "\n",
        "        print(f\"Architecture {neurons} | Activation: {activation} | Test Accuracy: {test_acc:.4f}\")\n",
        "\n",
        "        if test_acc > best_acc:\n",
        "            best_acc = test_acc\n",
        "            best_arch = (neurons, activation)\n",
        "\n",
        "    print(f\"Best Architecture: {best_arch[0]} with {best_arch[1]} activation, Accuracy: {best_acc:.4f}\")\n",
        "\n",
        "# Run tuning\n",
        "tune_model()\n"
      ]
    },
    {
      "cell_type": "code",
      "source": [],
      "metadata": {
        "id": "52muhGkrpHGv"
      },
      "execution_count": null,
      "outputs": []
    }
  ]
}