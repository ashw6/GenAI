{
  "nbformat": 4,
  "nbformat_minor": 0,
  "metadata": {
    "colab": {
      "provenance": [],
      "authorship_tag": "ABX9TyNTNOhazW6B6TaL3dp31hLO",
      "include_colab_link": true
    },
    "kernelspec": {
      "name": "python3",
      "display_name": "Python 3"
    },
    "language_info": {
      "name": "python"
    }
  },
  "cells": [
    {
      "cell_type": "markdown",
      "metadata": {
        "id": "view-in-github",
        "colab_type": "text"
      },
      "source": [
        "<a href=\"https://colab.research.google.com/github/ashw6/GenAI/blob/main/GENAI_ASS_3.ipynb\" target=\"_parent\"><img src=\"https://colab.research.google.com/assets/colab-badge.svg\" alt=\"Open In Colab\"/></a>"
      ]
    },
    {
      "cell_type": "markdown",
      "source": [
        "QUESTION-1"
      ],
      "metadata": {
        "id": "24ZTwYnvRmvr"
      }
    },
    {
      "cell_type": "code",
      "execution_count": 1,
      "metadata": {
        "colab": {
          "base_uri": "https://localhost:8080/"
        },
        "id": "lj7OKVRwROtX",
        "outputId": "1e97083b-eb4a-4129-91db-2dd6122ba271"
      },
      "outputs": [
        {
          "output_type": "stream",
          "name": "stdout",
          "text": [
            "The value of x at which f(x) is minimized: -0.29999016244485643\n"
          ]
        }
      ],
      "source": [
        "def gradient_descent_f(x_start, learning_rate, tolerance):\n",
        "    x = x_start\n",
        "    while True:\n",
        "        gradient = 10 * x + 3  # The derivative of f(x) = 5x^2 + 3x + 10\n",
        "        new_x = x - learning_rate * gradient\n",
        "        if abs(new_x - x) < tolerance:\n",
        "            break\n",
        "        x = new_x\n",
        "    return x\n",
        "\n",
        "# Example usage\n",
        "x_min = gradient_descent_f(x_start=0, learning_rate=0.01, tolerance=1e-6)\n",
        "print(f\"The value of x at which f(x) is minimized: {x_min}\")"
      ]
    },
    {
      "cell_type": "markdown",
      "source": [
        "QUESTION-2"
      ],
      "metadata": {
        "id": "PAnQcXMoRp0E"
      }
    },
    {
      "cell_type": "code",
      "source": [
        "def gradient_descent_g(x_start, y_start, learning_rate, tolerance):\n",
        "    x, y = x_start, y_start\n",
        "    def gradient_x(x):\n",
        "        return x  # ∂g/∂x = x\n",
        "    def gradient_y(y):\n",
        "        return y  # ∂g/∂y = y\n",
        "    while True:\n",
        "        grad_x = gradient_x(x)\n",
        "        grad_y = gradient_y(y)\n",
        "        new_x = x - learning_rate * grad_x\n",
        "        new_y = y - learning_rate * grad_y\n",
        "        if abs(new_x - x) < tolerance and abs(new_y - y) < tolerance:\n",
        "            break\n",
        "        x, y = new_x, new_y\n",
        "    return x, y\n",
        "# Example usage\n",
        "x_min, y_min = gradient_descent_g(x_start=10, y_start=10, learning_rate=0.1, tolerance=1e-6)\n",
        "print(f\"The value of x, y at which g(x, y) is minimized: x = {x_min}, y = {y_min}\")"
      ],
      "metadata": {
        "colab": {
          "base_uri": "https://localhost:8080/"
        },
        "id": "6afEjrmWRalp",
        "outputId": "bc453897-eae5-4cfe-e205-c2adf607a807"
      },
      "execution_count": 2,
      "outputs": [
        {
          "output_type": "stream",
          "name": "stdout",
          "text": [
            "The value of x, y at which g(x, y) is minimized: x = 9.12034456046445e-06, y = 9.12034456046445e-06\n"
          ]
        }
      ]
    },
    {
      "cell_type": "markdown",
      "source": [
        "QUESTION-3"
      ],
      "metadata": {
        "id": "GVGzj61rRsIY"
      }
    },
    {
      "cell_type": "code",
      "source": [
        "def sigmoid(x):\n",
        "    return 1 / (1 + (2.71828 ** -x))\n",
        "\n",
        "def gradient_descent_sigmoid(x_start, learning_rate, tolerance):\n",
        "    x = x_start\n",
        "    while True:\n",
        "        z = sigmoid(x)\n",
        "        gradient = z * (1 - z)\n",
        "        new_x = x - learning_rate * gradient\n",
        "        if abs(new_x - x) < tolerance:\n",
        "            break\n",
        "        x = new_x\n",
        "    return x\n",
        "\n",
        "# Example usage\n",
        "x_min = gradient_descent_sigmoid(x_start=0, learning_rate=0.01, tolerance=1e-6)\n",
        "print(f\"The value of x at which the sigmoid function is minimized: {x_min}\")"
      ],
      "metadata": {
        "colab": {
          "base_uri": "https://localhost:8080/"
        },
        "id": "v_kvgctWRd-w",
        "outputId": "920a13dc-7264-44ed-d774-087ced9cfcf7"
      },
      "execution_count": 3,
      "outputs": [
        {
          "output_type": "stream",
          "name": "stdout",
          "text": [
            "The value of x at which the sigmoid function is minimized: -9.210146767539557\n"
          ]
        }
      ]
    },
    {
      "cell_type": "markdown",
      "source": [
        "QUESTION-4"
      ],
      "metadata": {
        "id": "soXoppQPRt7M"
      }
    },
    {
      "cell_type": "code",
      "source": [
        "def gradient_descent_linear_regression(x_vals, y_vals, M_start, C_start, learning_rate, tolerance):\n",
        "    M, C = M_start, C_start\n",
        "    N = len(x_vals)\n",
        "\n",
        "    while True:\n",
        "        gradient_M = (-2 / N) * sum(x * (y - (M * x + C)) for x, y in zip(x_vals, y_vals))\n",
        "        gradient_C = (-2 / N) * sum((y - (M * x + C)) for x, y in zip(x_vals, y_vals))\n",
        "\n",
        "        new_M = M - learning_rate * gradient_M\n",
        "        new_C = C - learning_rate * gradient_C\n",
        "\n",
        "        if abs(new_M - M) < tolerance and abs(new_C - C) < tolerance:\n",
        "            break\n",
        "\n",
        "        M, C = new_M, new_C\n",
        "\n",
        "    return M, C\n",
        "\n",
        "# Example usage\n",
        "x_vals = [1, 2, 3, 4, 5]  # Sample data for x\n",
        "y_vals = [2, 4, 5, 4, 5]  # Sample data for y\n",
        "\n",
        "M_opt, C_opt = gradient_descent_linear_regression(x_vals, y_vals, M_start=0, C_start=0, learning_rate=0.01, tolerance=1e-6)\n",
        "print(f\"Optimal M: {M_opt}, Optimal C: {C_opt}\")"
      ],
      "metadata": {
        "colab": {
          "base_uri": "https://localhost:8080/"
        },
        "id": "eyRNG_SSRh5L",
        "outputId": "d2266847-d400-4133-f6fd-376f482eeeee"
      },
      "execution_count": 4,
      "outputs": [
        {
          "output_type": "stream",
          "name": "stdout",
          "text": [
            "Optimal M: 0.6000816915982937, Optimal C: 2.1997050674095555\n"
          ]
        }
      ]
    }
  ]
}