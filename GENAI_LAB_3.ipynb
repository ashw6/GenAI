{
  "nbformat": 4,
  "nbformat_minor": 0,
  "metadata": {
    "colab": {
      "provenance": [],
      "authorship_tag": "ABX9TyPwV7P2lErDB4fO/Kk7uMsU",
      "include_colab_link": true
    },
    "kernelspec": {
      "name": "python3",
      "display_name": "Python 3"
    },
    "language_info": {
      "name": "python"
    }
  },
  "cells": [
    {
      "cell_type": "markdown",
      "metadata": {
        "id": "view-in-github",
        "colab_type": "text"
      },
      "source": [
        "<a href=\"https://colab.research.google.com/github/ashw6/GenAI/blob/main/GENAI_LAB_3.ipynb\" target=\"_parent\"><img src=\"https://colab.research.google.com/assets/colab-badge.svg\" alt=\"Open In Colab\"/></a>"
      ]
    },
    {
      "cell_type": "markdown",
      "source": [
        "QUESTION-1"
      ],
      "metadata": {
        "id": "cEjZFgOxVGji"
      }
    },
    {
      "cell_type": "code",
      "execution_count": null,
      "metadata": {
        "colab": {
          "base_uri": "https://localhost:8080/"
        },
        "id": "f8mGD6TuKPe3",
        "outputId": "5875773f-bac3-4c44-95a4-451d2abfafd9"
      },
      "outputs": [
        {
          "output_type": "stream",
          "name": "stdout",
          "text": [
            "The value of x at which f(x) has a minimum is approximately: 1.63586104206045e-05\n",
            "The minimum value of f(x) is approximately: 10.000000000802812\n"
          ]
        }
      ],
      "source": [
        "def f(x):\n",
        "    return 5 * x**4 + 3 * x**2 + 10\n",
        "\n",
        "def df(x):\n",
        "    return 20 * x**3 + 6 * x\n",
        "\n",
        "\n",
        "def gradient_descent(alpha, initial_x, max_iters, tolerance):\n",
        "    x = initial_x\n",
        "    for i in range(max_iters):\n",
        "        gradient = df(x)\n",
        "        new_x = x - alpha * gradient\n",
        "\n",
        "\n",
        "        if abs(new_x - x) < tolerance:\n",
        "            break\n",
        "        x = new_x\n",
        "    return x\n",
        "\n",
        "\n",
        "learning_rate = 0.01\n",
        "initial_x = 1.0\n",
        "max_iterations = 1000\n",
        "tolerance = 1e-6\n",
        "\n",
        "\n",
        "minimum_x = gradient_descent(learning_rate, initial_x, max_iterations, tolerance)\n",
        "\n",
        "print(f\"The value of x at which f(x) has a minimum is approximately: {minimum_x}\")\n",
        "print(f\"The minimum value of f(x) is approximately: {f(minimum_x)}\")\n"
      ]
    },
    {
      "cell_type": "markdown",
      "source": [
        "QUESTION-2"
      ],
      "metadata": {
        "id": "UXDnD_HUVJ42"
      }
    },
    {
      "cell_type": "code",
      "source": [
        "\n",
        "def g(x, y):\n",
        "    return 3 * x**2 + 5 * (2.71828**(-y)) + 10\n",
        "\n",
        "def dg_dx(x, y):\n",
        "    return 6 * x\n",
        "def dg_dy(x, y):\n",
        "    return -5 * (2.71828**(-y))\n",
        "\n",
        "\n",
        "def gradient_descent_2d(alpha, initial_x, initial_y, max_iters, tolerance):\n",
        "    x, y = initial_x, initial_y\n",
        "    for i in range(max_iters):\n",
        "        gradient_x = dg_dx(x, y)\n",
        "        gradient_y = dg_dy(x, y)\n",
        "\n",
        "        new_x = x - alpha * gradient_x\n",
        "        new_y = y - alpha * gradient_y\n",
        "\n",
        "        if abs(new_x - x) < tolerance and abs(new_y - y) < tolerance:\n",
        "            break\n",
        "\n",
        "        x, y = new_x, new_y\n",
        "\n",
        "    return x, y\n",
        "\n",
        "learning_rate = 0.01\n",
        "initial_x = 1.0\n",
        "initial_y = 1.0\n",
        "max_iterations = 1000\n",
        "tolerance = 1e-6\n",
        "\n",
        "minimum_x, minimum_y = gradient_descent_2d(learning_rate, initial_x, initial_y, max_iterations, tolerance)\n",
        "\n",
        "print(f\"The value of x at which g(x, y) has a minimum is approximately: {minimum_x}\")\n",
        "print(f\"The value of y at which g(x, y) has a minimum is approximately: {minimum_y}\")\n",
        "print(f\"The minimum value of g(x, y) is approximately: {g(minimum_x, minimum_y)}\")\n"
      ],
      "metadata": {
        "colab": {
          "base_uri": "https://localhost:8080/"
        },
        "id": "lqn6DFCESyC1",
        "outputId": "5b259808-e938-4c76-c0d8-0bc21b71aa34"
      },
      "execution_count": 3,
      "outputs": [
        {
          "output_type": "stream",
          "name": "stdout",
          "text": [
            "The value of x at which g(x, y) has a minimum is approximately: 1.3423123924933694e-27\n",
            "The value of y at which g(x, y) has a minimum is approximately: 3.966372788969171\n",
            "The minimum value of g(x, y) is approximately: 10.094710329515651\n"
          ]
        }
      ]
    },
    {
      "cell_type": "markdown",
      "source": [
        "QUESTION-3"
      ],
      "metadata": {
        "id": "MTSCjwF5VNYc"
      }
    },
    {
      "cell_type": "code",
      "source": [
        "\n",
        "def z(x):\n",
        "    return 1 / (1 + 2.71828**(-x))\n",
        "\n",
        "def dz_dx(x):\n",
        "    sigmoid = z(x)\n",
        "    return sigmoid * (1 - sigmoid)\n",
        "\n",
        "def gradient_descent_sigmoid(alpha, initial_x, max_iters, tolerance):\n",
        "    x = initial_x\n",
        "    for i in range(max_iters):\n",
        "        gradient = dz_dx(x)\n",
        "        new_x = x - alpha * gradient\n",
        "\n",
        "\n",
        "        if abs(new_x - x) < tolerance:\n",
        "            break\n",
        "        x = new_x\n",
        "\n",
        "    return x\n",
        "\n",
        "\n",
        "learning_rate = 0.01\n",
        "initial_x = 0.0\n",
        "max_iterations = 1000\n",
        "tolerance = 1e-6\n",
        "\n",
        "\n",
        "minimum_x = gradient_descent_sigmoid(learning_rate, initial_x, max_iterations, tolerance)\n",
        "\n",
        "print(f\"The value of x at which z(x) has a minimum is approximately: {minimum_x}\")\n",
        "print(f\"The minimum value of z(x) is approximately: {z(minimum_x)}\")\n"
      ],
      "metadata": {
        "colab": {
          "base_uri": "https://localhost:8080/"
        },
        "id": "jNJodFTTT4rR",
        "outputId": "41377c9a-6835-4df9-b476-2f7789987c05"
      },
      "execution_count": 5,
      "outputs": [
        {
          "output_type": "stream",
          "name": "stdout",
          "text": [
            "The value of x at which z(x) has a minimum is approximately: -1.8618359316575634\n",
            "The minimum value of z(x) is approximately: 0.13448934843175162\n"
          ]
        }
      ]
    },
    {
      "cell_type": "markdown",
      "source": [
        "QUESTION-4"
      ],
      "metadata": {
        "id": "A2x3cqKwVP1P"
      }
    },
    {
      "cell_type": "code",
      "source": [
        "\n",
        "def z(x):\n",
        "    return 1 / (1 + 2.71828**(-x))\n",
        "\n",
        "def dz_dx(x):\n",
        "    sigmoid = z(x)\n",
        "    return sigmoid * (1 - sigmoid)\n",
        "\n",
        "\n",
        "def gradient_descent_sigmoid(alpha, initial_x, max_iters, tolerance):\n",
        "    x = initial_x\n",
        "    for i in range(max_iters):\n",
        "        gradient = dz_dx(x)\n",
        "        new_x = x - alpha * gradient\n",
        "\n",
        "\n",
        "        if abs(new_x - x) < tolerance:\n",
        "            break\n",
        "        x = new_x\n",
        "\n",
        "    return x\n",
        "\n",
        "\n",
        "learning_rate = 0.01\n",
        "initial_x = 0.0\n",
        "max_iterations = 1000\n",
        "tolerance = 1e-6\n",
        "\n",
        "\n",
        "minimum_x = gradient_descent_sigmoid(learning_rate, initial_x, max_iterations, tolerance)\n",
        "\n",
        "print(f\"The value of x at which z(x) has a minimum is approximately: {minimum_x}\")\n",
        "print(f\"The minimum value of z(x) is approximately: {z(minimum_x)}\")\n",
        "\n",
        "\n",
        "def square_error(expected, predicted):\n",
        "    return (expected - predicted)**2\n",
        "\n",
        "def dSE_dM(expected, predicted, x):\n",
        "    return -2 * (expected - predicted) * x\n",
        "\n",
        "def dSE_dC(expected, predicted):\n",
        "    return -2 * (expected - predicted)\n",
        "\n",
        "def gradient_descent_se(alpha, x_values, y_values, initial_M, initial_C, max_iters, tolerance):\n",
        "    M, C = initial_M, initial_C\n",
        "    for _ in range(max_iters):\n",
        "        dM, dC = 0, 0\n",
        "        n = len(x_values)\n",
        "\n",
        "        for x, y in zip(x_values, y_values):\n",
        "            predicted = M * x + C\n",
        "            dM += dSE_dM(y, predicted, x)\n",
        "            dC += dSE_dC(y, predicted)\n",
        "\n",
        "        dM /= n\n",
        "        dC /= n\n",
        "\n",
        "        new_M = M - alpha * dM\n",
        "        new_C = C - alpha * dC\n",
        "\n",
        "\n",
        "        if abs(new_M - M) < tolerance and abs(new_C - C) < tolerance:\n",
        "            break\n",
        "\n",
        "        M, C = new_M, new_C\n",
        "\n",
        "    return M, C\n",
        "\n",
        "\n",
        "x_values = [1, 2, 3, 4, 5]\n",
        "y_values = [2.2, 2.8, 3.6, 4.5, 5.1]\n",
        "\n",
        "learning_rate = 0.01\n",
        "initial_M = 0.0\n",
        "initial_C = 0.0\n",
        "max_iterations = 1000\n",
        "tolerance = 1e-6\n",
        "\n",
        "optimal_M, optimal_C = gradient_descent_se(learning_rate, x_values, y_values, initial_M, initial_C, max_iterations, tolerance)\n",
        "\n",
        "print(f\"Optimal value of M: {optimal_M}\")\n",
        "print(f\"Optimal value of C: {optimal_C}\")\n"
      ],
      "metadata": {
        "colab": {
          "base_uri": "https://localhost:8080/"
        },
        "id": "v0Lw5oXVUmwJ",
        "outputId": "dec03b71-9a83-45bf-ab0d-50fd755fcfea"
      },
      "execution_count": 6,
      "outputs": [
        {
          "output_type": "stream",
          "name": "stdout",
          "text": [
            "The value of x at which z(x) has a minimum is approximately: -1.8618359316575634\n",
            "The minimum value of z(x) is approximately: 0.13448934843175162\n",
            "Optimal value of M: 0.7602859535237155\n",
            "Optimal value of C: 1.3528644440640072\n"
          ]
        }
      ]
    }
  ]
}