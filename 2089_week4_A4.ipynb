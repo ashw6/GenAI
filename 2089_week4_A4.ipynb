{
  "nbformat": 4,
  "nbformat_minor": 0,
  "metadata": {
    "colab": {
      "provenance": [],
      "authorship_tag": "ABX9TyMfKQAQUPFYRzmoDe8RUNxO",
      "include_colab_link": true
    },
    "kernelspec": {
      "name": "python3",
      "display_name": "Python 3"
    },
    "language_info": {
      "name": "python"
    }
  },
  "cells": [
    {
      "cell_type": "markdown",
      "metadata": {
        "id": "view-in-github",
        "colab_type": "text"
      },
      "source": [
        "<a href=\"https://colab.research.google.com/github/ashw6/GenAI/blob/main/2089_week4_A4.ipynb\" target=\"_parent\"><img src=\"https://colab.research.google.com/assets/colab-badge.svg\" alt=\"Open In Colab\"/></a>"
      ]
    },
    {
      "cell_type": "markdown",
      "source": [
        "Q-1"
      ],
      "metadata": {
        "id": "iKG8qk-sKJZq"
      }
    },
    {
      "cell_type": "code",
      "execution_count": 1,
      "metadata": {
        "colab": {
          "base_uri": "https://localhost:8080/"
        },
        "id": "Bb1g61pDJy1L",
        "outputId": "f832af98-f416-45c5-b529-8bda33d80845"
      },
      "outputs": [
        {
          "output_type": "stream",
          "name": "stdout",
          "text": [
            "Training MSE: 0.0094\n",
            "Test MSE: 0.0378\n",
            "Enter x1, x2, x3: 0.2 0.3 0.4\n",
            "Predicted output: 0.3125\n"
          ]
        }
      ],
      "source": [
        "import numpy as np\n",
        "\n",
        "def train_ann(X, y, learning_rate=0.01, epochs=1000):\n",
        "    np.random.seed(42)\n",
        "    weights = np.random.randn(X.shape[1])  # Initialize weights randomly\n",
        "    bias = np.random.randn()  # Initialize bias randomly\n",
        "\n",
        "    for _ in range(epochs):\n",
        "        y_pred = np.dot(X, weights) + bias  # Linear activation\n",
        "        error = y_pred - y\n",
        "\n",
        "        grad_w = np.dot(X.T, error) / len(y)  # Compute gradient for weights\n",
        "        grad_b = np.mean(error)  # Compute gradient for bias\n",
        "\n",
        "        weights -= learning_rate * grad_w  # Update weights\n",
        "        bias -= learning_rate * grad_b  # Update bias\n",
        "\n",
        "    return weights, bias\n",
        "\n",
        "def mse(y_true, y_pred):\n",
        "    return np.mean((y_true - y_pred) ** 2)\n",
        "\n",
        "def predict(X, weights, bias):\n",
        "    return np.dot(X, weights) + bias\n",
        "\n",
        "# Training data\n",
        "X_train = np.array([\n",
        "    [0.1, 0.2, 0.3],\n",
        "    [0.2, 0.3, 0.4],\n",
        "    [0.3, 0.4, 0.5],\n",
        "    [0.5, 0.6, 0.7],\n",
        "    [0.1, 0.3, 0.5],\n",
        "    [0.2, 0.4, 0.6],\n",
        "    [0.3, 0.5, 0.7],\n",
        "    [0.4, 0.6, 0.8],\n",
        "    [0.5, 0.7, 0.1]\n",
        "])\n",
        "y_train = np.array([0.14, 0.20, 0.26, 0.38, 0.22, 0.28, 0.34, 0.40, 0.22])\n",
        "\n",
        "# Train model\n",
        "weights, bias = train_ann(X_train, y_train)\n",
        "\n",
        "# Training MSE\n",
        "y_train_pred = predict(X_train, weights, bias)\n",
        "train_mse = mse(y_train, y_train_pred)\n",
        "print(f\"Training MSE: {train_mse:.4f}\")\n",
        "\n",
        "# Test data\n",
        "X_test = np.array([\n",
        "    [0.6, 0.7, 0.8],\n",
        "    [0.7, 0.8, 0.9]\n",
        "])\n",
        "y_test = np.array([0.44, 0.50])\n",
        "\n",
        "# Test MSE\n",
        "y_test_pred = predict(X_test, weights, bias)\n",
        "test_mse = mse(y_test, y_test_pred)\n",
        "print(f\"Test MSE: {test_mse:.4f}\")\n",
        "\n",
        "# User input prediction\n",
        "user_input = np.array([float(x) for x in input(\"Enter x1, x2, x3: \").split()]).reshape(1, -1)\n",
        "output = predict(user_input, weights, bias)\n",
        "print(f\"Predicted output: {output[0]:.4f}\")"
      ]
    },
    {
      "cell_type": "markdown",
      "source": [
        "Q-2"
      ],
      "metadata": {
        "id": "SrCod6_JKytU"
      }
    },
    {
      "cell_type": "code",
      "source": [
        "import numpy as np\n",
        "\n",
        "def sigmoid(x):\n",
        "    return 1 / (1 + np.exp(-x))\n",
        "\n",
        "def train_ann(X, y, learning_rate=0.01, epochs=1000):\n",
        "    np.random.seed(42)\n",
        "    weights = np.random.randn(X.shape[1])  # Initialize weights randomly\n",
        "    bias = np.random.randn()  # Initialize bias randomly\n",
        "\n",
        "    for _ in range(epochs):\n",
        "        y_pred = sigmoid(np.dot(X, weights) + bias)  # Sigmoid activation\n",
        "        error = y_pred - y\n",
        "\n",
        "        grad_w = np.dot(X.T, error * y_pred * (1 - y_pred)) / len(y)  # Compute gradient for weights\n",
        "        grad_b = np.mean(error * y_pred * (1 - y_pred))  # Compute gradient for bias\n",
        "\n",
        "        weights -= learning_rate * grad_w  # Update weights\n",
        "        bias -= learning_rate * grad_b  # Update bias\n",
        "\n",
        "    return weights, bias\n",
        "\n",
        "def mse(y_true, y_pred):\n",
        "    return np.mean((y_true - y_pred) ** 2)\n",
        "\n",
        "def predict(X, weights, bias):\n",
        "    return sigmoid(np.dot(X, weights) + bias)\n",
        "\n",
        "# Training data\n",
        "X_train = np.array([\n",
        "    [0.1, 0.2, 0.3],\n",
        "    [0.2, 0.3, 0.4],\n",
        "    [0.3, 0.4, 0.5],\n",
        "    [0.5, 0.6, 0.7],\n",
        "    [0.1, 0.3, 0.5],\n",
        "    [0.2, 0.4, 0.6],\n",
        "    [0.3, 0.5, 0.7],\n",
        "    [0.4, 0.6, 0.8],\n",
        "    [0.5, 0.7, 0.1]\n",
        "])\n",
        "y_train = np.array([0.5349, 0.5498, 0.5646, 0.5939, 0.5548, 0.5695, 0.5842, 0.5987, 0.5548])\n",
        "\n",
        "# Train model\n",
        "weights, bias = train_ann(X_train, y_train)\n",
        "\n",
        "# Training MSE\n",
        "y_train_pred = predict(X_train, weights, bias)\n",
        "train_mse = mse(y_train, y_train_pred)\n",
        "print(f\"Training MSE: {train_mse:.4f}\")\n",
        "\n",
        "# Test data\n",
        "X_test = np.array([\n",
        "    [0.6, 0.7, 0.8],\n",
        "    [0.7, 0.8, 0.9]\n",
        "])\n",
        "y_test = np.array([0.6083, 0.6225])\n",
        "\n",
        "# Test MSE\n",
        "y_test_pred = predict(X_test, weights, bias)\n",
        "test_mse = mse(y_test, y_test_pred)\n",
        "print(f\"Test MSE: {test_mse:.4f}\")\n",
        "\n",
        "# User input prediction\n",
        "user_input = np.array([float(x) for x in input(\"Enter x1, x2, x3: \").split()]).reshape(1, -1)\n",
        "output = predict(user_input, weights, bias)\n",
        "print(f\"Predicted output: {output[0]:.4f}\")\n"
      ],
      "metadata": {
        "colab": {
          "base_uri": "https://localhost:8080/"
        },
        "id": "yT3oqbwjKl6Q",
        "outputId": "7703f33d-b200-4aef-b7bb-06f711ebd69f"
      },
      "execution_count": 2,
      "outputs": [
        {
          "output_type": "stream",
          "name": "stdout",
          "text": [
            "Training MSE: 0.0538\n",
            "Test MSE: 0.0466\n",
            "Enter x1, x2, x3: 0.6 0.7 0.8\n",
            "Predicted output: 0.8272\n"
          ]
        }
      ]
    }
  ]
}